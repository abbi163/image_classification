{
 "cells": [
  {
   "cell_type": "markdown",
   "metadata": {},
   "source": [
    "## Using Artificial Sequential model we will be creating a binary classifier of Cat image, (CAT | NO CAT)"
   ]
  },
  {
   "cell_type": "markdown",
   "metadata": {},
   "source": [
    "### 1 - Packages ##\n",
    "\n",
    "First, let's run the cell below to import all the packages that you will need during this assignment. \n",
    "- [numpy](www.numpy.org) is the fundamental package for scientific computing with Python.\n",
    "- [h5py](http://www.h5py.org) is a common package to interact with a dataset that is stored on an H5 file.\n",
    "- [matplotlib](http://matplotlib.org) is a famous library to plot graphs in Python.\n",
    "- [PIL](http://www.pythonware.com/products/pil/) and [scipy](https://www.scipy.org/) are used here to test your model with your own picture at the end.\n",
    "- keras framework is used to construct the ANN "
   ]
  },
  {
   "cell_type": "code",
   "execution_count": 1,
   "metadata": {},
   "outputs": [],
   "source": [
    "import numpy as np\n",
    "import matplotlib.pyplot as plt\n",
    "import h5py\n",
    "import scipy\n",
    "from PIL import Image\n",
    "from scipy import ndimage\n",
    "from lr_utils import load_dataset\n",
    "\n",
    "%matplotlib inline"
   ]
  },
  {
   "cell_type": "markdown",
   "metadata": {},
   "source": [
    "### 2 - Overview of the Problem set ##\n",
    "\n",
    "**Problem Statement**: We are given a dataset (\"data.h5\") containing:\n",
    "    - a training set of m_train images labeled as cat (y=1) or non-cat (y=0)\n",
    "    - a test set of m_test images labeled as cat or non-cat\n",
    "    - each image is of shape (num_px, num_px, 3) where 3 is for the 3 channels (RGB). Thus, each image is square (height = num_px) and (width = num_px).\n",
    "\n",
    "You will build a simple image-recognition algorithm that can correctly classify pictures as cat or non-cat.\n",
    "\n",
    "Let's get more familiar with the dataset. Load the data by running the following code."
   ]
  },
  {
   "cell_type": "code",
   "execution_count": 2,
   "metadata": {},
   "outputs": [],
   "source": [
    "# Loading the data (cat/non-cat)\n",
    "train_set_x_orig, train_set_y, test_set_x_orig, test_set_y, classes = load_dataset()"
   ]
  },
  {
   "cell_type": "markdown",
   "metadata": {},
   "source": [
    "We added \"_orig\" at the end of image datasets (train and test) because we are going to preprocess them. After preprocessing, we will end up with train_set_x and test_set_x (the labels train_set_y and test_set_y don't need any preprocessing).\n",
    "\n",
    "Each line of your train_set_x_orig and test_set_x_orig is an array representing an image. You can visualize an example by running the following code. Feel free also to change the `index` value and re-run to see other images. "
   ]
  },
  {
   "cell_type": "code",
   "execution_count": 3,
   "metadata": {},
   "outputs": [
    {
     "data": {
      "text/plain": [
       "(209, 64, 64, 3)"
      ]
     },
     "execution_count": 3,
     "metadata": {},
     "output_type": "execute_result"
    }
   ],
   "source": [
    "train_set_x_orig.shape"
   ]
  },
  {
   "cell_type": "code",
   "execution_count": 4,
   "metadata": {},
   "outputs": [
    {
     "name": "stdout",
     "output_type": "stream",
     "text": [
      "y = [0], it's a 'non-cat' picture.\n"
     ]
    },
    {
     "data": {
      "text/plain": [
       "<function matplotlib.pyplot.show(*args, **kw)>"
      ]
     },
     "execution_count": 4,
     "metadata": {},
     "output_type": "execute_result"
    },
    {
     "data": {
      "image/png": "[encoded data removed]",
      "text/plain": [
       "<Figure size 432x288 with 1 Axes>"
      ]
     },
     "metadata": {
      "needs_background": "light"
     },
     "output_type": "display_data"
    }
   ],
   "source": [
    "# Example of a picture\n",
    "index = 16\n",
    "plt.imshow(train_set_x_orig[index])\n",
    "print (\"y = \" + str(train_set_y[:, index]) + \", it's a '\" + classes[np.squeeze(train_set_y[:, index])].decode(\"utf-8\") +  \"' picture.\")\n",
    "plt.show"
   ]
  },
  {
   "cell_type": "markdown",
   "metadata": {},
   "source": [
    "Many software bugs in deep learning come from having matrix/vector dimensions that don't fit. If you can keep your matrix/vector dimensions straight you will go a long way toward eliminating many bugs. \n",
    "\n",
    "\n",
    "    - m_train (number of training examples)\n",
    "    - m_test (number of test examples)\n",
    "    - num_px (= height = width of a training image)\n",
    "Remember that `train_set_x_orig` is a numpy-array of shape (m_train, num_px, num_px, 3). For instance, you can access `m_train` by writing `train_set_x_orig.shape[0]`."
   ]
  },
  {
   "cell_type": "code",
   "execution_count": 5,
   "metadata": {},
   "outputs": [
    {
     "name": "stdout",
     "output_type": "stream",
     "text": [
      "Number of training examples: m_train = 209\n",
      "Number of testing examples: m_test = 50\n",
      "Height/Width of each image: num_px = 64\n",
      "Each image is of size: (64, 64, 3)\n",
      "train_set_x shape: (209, 64, 64, 3)\n",
      "train_set_y shape: (1, 209)\n",
      "test_set_x shape: (50, 64, 64, 3)\n",
      "test_set_y shape: (1, 50)\n"
     ]
    }
   ],
   "source": [
    "### START CODE HERE ### (≈ 3 lines of code)\n",
    "m_train = train_set_x_orig.shape[0]\n",
    "m_test = test_set_x_orig.shape[0]\n",
    "num_px = train_set_x_orig.shape[1]\n",
    "### END CODE HERE ###\n",
    "\n",
    "print (\"Number of training examples: m_train = \" + str(m_train))\n",
    "print (\"Number of testing examples: m_test = \" + str(m_test))\n",
    "print (\"Height/Width of each image: num_px = \" + str(num_px))\n",
    "print (\"Each image is of size: (\" + str(num_px) + \", \" + str(num_px) + \", 3)\")\n",
    "print (\"train_set_x shape: \" + str(train_set_x_orig.shape))\n",
    "print (\"train_set_y shape: \" + str(train_set_y.shape))\n",
    "print (\"test_set_x shape: \" + str(test_set_x_orig.shape))\n",
    "print (\"test_set_y shape: \" + str(test_set_y.shape))"
   ]
  },
  {
   "cell_type": "markdown",
   "metadata": {},
   "source": [
    "### 2 - Flattening of the image ! ##\n",
    "For convenience, you should now reshape images of shape (num_px, num_px, 3) in a numpy-array of shape (num_px $*$ num_px $*$ 3, 1). After this, our training (and test) dataset is a numpy-array where each column represents a flattened image. There should be m_train (respectively m_test) columns.\n",
    "\n",
    "We will reshape the training and test data sets so that images of size (num_px, num_px, 3) are flattened into single vectors of shape (num\\_px $*$ num\\_px $*$ 3, 1).\n",
    "\n",
    "A trick when you want to flatten a matrix X of shape (a,b,c,d) to a matrix X_flatten of shape (b$*$c$*$d, a) is to use: \n",
    "```python\n",
    "X_flatten = X.reshape(X.shape[0], -1).T      # X.T is the transpose of X\n",
    "```"
   ]
  },
  {
   "cell_type": "code",
   "execution_count": 6,
   "metadata": {},
   "outputs": [],
   "source": [
    "X_train_flatten = train_set_x_orig.reshape(train_set_x_orig.shape[0], -1)\n",
    "X_test_flatten =  test_set_x_orig.reshape(test_set_x_orig.shape[0], -1)"
   ]
  },
  {
   "cell_type": "markdown",
   "metadata": {},
   "source": [
    "## 3 -Normalization of image !!\n",
    "#### Since our image array is an array in range 0-255 we will do simple normalization first, i.e  we will divide the array by 255"
   ]
  },
  {
   "cell_type": "code",
   "execution_count": 7,
   "metadata": {},
   "outputs": [],
   "source": [
    "X_train = X_train_flatten / 255\n",
    "X_test = X_test_flatten / 255"
   ]
  },
  {
   "cell_type": "code",
   "execution_count": 8,
   "metadata": {},
   "outputs": [
    {
     "data": {
      "text/plain": [
       "array([0, 1])"
      ]
     },
     "execution_count": 8,
     "metadata": {},
     "output_type": "execute_result"
    }
   ],
   "source": [
    "y_train = train_set_y.T\n",
    "y_test = test_set_y.T\n",
    "np.unique(y_train)"
   ]
  },
  {
   "cell_type": "code",
   "execution_count": 9,
   "metadata": {},
   "outputs": [
    {
     "data": {
      "text/plain": [
       "209"
      ]
     },
     "execution_count": 9,
     "metadata": {},
     "output_type": "execute_result"
    }
   ],
   "source": [
    "X_train.shape[0]"
   ]
  },
  {
   "cell_type": "code",
   "execution_count": 10,
   "metadata": {},
   "outputs": [
    {
     "name": "stdout",
     "output_type": "stream",
     "text": [
      "(209, 12288)\n",
      "(209, 1)\n"
     ]
    }
   ],
   "source": [
    "print(X_train.shape)\n",
    "print(y_train.shape)"
   ]
  },
  {
   "cell_type": "markdown",
   "metadata": {},
   "source": [
    "### To categorical features"
   ]
  },
  {
   "cell_type": "code",
   "execution_count": 11,
   "metadata": {},
   "outputs": [
    {
     "name": "stderr",
     "output_type": "stream",
     "text": [
      "Using TensorFlow backend.\n"
     ]
    }
   ],
   "source": [
    "from keras.models import Sequential\n",
    "from keras.layers.core import Dense, Activation\n",
    "from keras.utils import np_utils\n",
    "from keras import optimizers\n",
    "\n",
    "classes = 2\n",
    "y_train = np_utils.to_categorical(y_train, classes)\n",
    "y_test1 = np_utils.to_categorical(y_test, classes)"
   ]
  },
  {
   "cell_type": "markdown",
   "metadata": {},
   "source": [
    "##### Here it's cleary visible that it is a binary classification problem with prediction either 0 or 1. "
   ]
  },
  {
   "cell_type": "markdown",
   "metadata": {},
   "source": [
    "# 4- Model Architecture !!\n",
    "##### We will be creating a 2 hidden layer ANN architecture with first layer as dense as 100 and activation function as 'sigmoid' and another activation function 'softmax'. Second layer is output layer with 'logistic' as output function. "
   ]
  },
  {
   "cell_type": "code",
   "execution_count": 12,
   "metadata": {},
   "outputs": [],
   "source": [
    "input_size = 12288\n",
    "batch_size = 1000\n",
    "hidden_neurons = 200\n",
    "epochs = 100"
   ]
  },
  {
   "cell_type": "code",
   "execution_count": 13,
   "metadata": {},
   "outputs": [
    {
     "name": "stdout",
     "output_type": "stream",
     "text": [
      "WARNING:tensorflow:From /home/abhijeet/anaconda3/lib/python3.7/site-packages/tensorflow/python/framework/op_def_library.py:263: colocate_with (from tensorflow.python.framework.ops) is deprecated and will be removed in a future version.\n",
      "Instructions for updating:\n",
      "Colocations handled automatically by placer.\n",
      "WARNING:tensorflow:From /home/abhijeet/anaconda3/lib/python3.7/site-packages/tensorflow/python/ops/math_ops.py:3066: to_int32 (from tensorflow.python.ops.math_ops) is deprecated and will be removed in a future version.\n",
      "Instructions for updating:\n",
      "Use tf.cast instead.\n",
      "Epoch 1/100\n"
     ]
    },
    {
     "name": "stderr",
     "output_type": "stream",
     "text": [
      "/home/abhijeet/anaconda3/lib/python3.7/site-packages/ipykernel_launcher.py:13: UserWarning: The `nb_epoch` argument in `fit` has been renamed `epochs`.\n",
      "  del sys.path[0]\n"
     ]
    },
    {
     "name": "stdout",
     "output_type": "stream",
     "text": [
      "209/209 [==============================] - 0s 1ms/step - loss: 0.6917 - binary_accuracy: 0.4880\n",
      "Epoch 2/100\n",
      "209/209 [==============================] - 0s 210us/step - loss: 2.8119 - binary_accuracy: 0.6555\n",
      "Epoch 3/100\n",
      "209/209 [==============================] - 0s 157us/step - loss: 2.6685 - binary_accuracy: 0.6555\n",
      "Epoch 4/100\n",
      "209/209 [==============================] - 0s 170us/step - loss: 2.5661 - binary_accuracy: 0.6555\n",
      "Epoch 5/100\n",
      "209/209 [==============================] - 0s 221us/step - loss: 2.4816 - binary_accuracy: 0.6555\n",
      "Epoch 6/100\n",
      "209/209 [==============================] - 0s 163us/step - loss: 2.4077 - binary_accuracy: 0.6555\n",
      "Epoch 7/100\n",
      "209/209 [==============================] - 0s 151us/step - loss: 2.3407 - binary_accuracy: 0.6555\n",
      "Epoch 8/100\n",
      "209/209 [==============================] - 0s 206us/step - loss: 2.2789 - binary_accuracy: 0.6555\n",
      "Epoch 9/100\n",
      "209/209 [==============================] - 0s 162us/step - loss: 2.2209 - binary_accuracy: 0.6555\n",
      "Epoch 10/100\n",
      "209/209 [==============================] - 0s 189us/step - loss: 2.1660 - binary_accuracy: 0.6555\n",
      "Epoch 11/100\n",
      "209/209 [==============================] - 0s 210us/step - loss: 2.1136 - binary_accuracy: 0.6555\n",
      "Epoch 12/100\n",
      "209/209 [==============================] - 0s 185us/step - loss: 2.0632 - binary_accuracy: 0.6555\n",
      "Epoch 13/100\n",
      "209/209 [==============================] - 0s 227us/step - loss: 2.0147 - binary_accuracy: 0.6555\n",
      "Epoch 14/100\n",
      "209/209 [==============================] - 0s 209us/step - loss: 1.9676 - binary_accuracy: 0.6555\n",
      "Epoch 15/100\n",
      "209/209 [==============================] - 0s 188us/step - loss: 1.9219 - binary_accuracy: 0.6555\n",
      "Epoch 16/100\n",
      "209/209 [==============================] - 0s 215us/step - loss: 1.8773 - binary_accuracy: 0.6555\n",
      "Epoch 17/100\n",
      "209/209 [==============================] - 0s 200us/step - loss: 1.8338 - binary_accuracy: 0.6555\n",
      "Epoch 18/100\n",
      "209/209 [==============================] - 0s 188us/step - loss: 1.7912 - binary_accuracy: 0.6555\n",
      "Epoch 19/100\n",
      "209/209 [==============================] - 0s 220us/step - loss: 1.7495 - binary_accuracy: 0.6555\n",
      "Epoch 20/100\n",
      "209/209 [==============================] - 0s 158us/step - loss: 1.7085 - binary_accuracy: 0.6555\n",
      "Epoch 21/100\n",
      "209/209 [==============================] - 0s 200us/step - loss: 1.6682 - binary_accuracy: 0.6555\n",
      "Epoch 22/100\n",
      "209/209 [==============================] - 0s 192us/step - loss: 1.6285 - binary_accuracy: 0.6555\n",
      "Epoch 23/100\n",
      "209/209 [==============================] - 0s 222us/step - loss: 1.5894 - binary_accuracy: 0.6555\n",
      "Epoch 24/100\n",
      "209/209 [==============================] - 0s 178us/step - loss: 1.5508 - binary_accuracy: 0.6555\n",
      "Epoch 25/100\n",
      "209/209 [==============================] - 0s 208us/step - loss: 1.5127 - binary_accuracy: 0.6555\n",
      "Epoch 26/100\n",
      "209/209 [==============================] - 0s 200us/step - loss: 1.4743 - binary_accuracy: 0.6555\n",
      "Epoch 27/100\n",
      "209/209 [==============================] - 0s 233us/step - loss: 1.4172 - binary_accuracy: 0.6555\n",
      "Epoch 28/100\n",
      "209/209 [==============================] - 0s 255us/step - loss: 1.3795 - binary_accuracy: 0.6555\n",
      "Epoch 29/100\n",
      "209/209 [==============================] - 0s 195us/step - loss: 1.3422 - binary_accuracy: 0.6555\n",
      "Epoch 30/100\n",
      "209/209 [==============================] - 0s 225us/step - loss: 1.2902 - binary_accuracy: 0.6555\n",
      "Epoch 31/100\n",
      "209/209 [==============================] - 0s 196us/step - loss: 1.2246 - binary_accuracy: 0.6555\n",
      "Epoch 32/100\n",
      "209/209 [==============================] - 0s 250us/step - loss: 1.1886 - binary_accuracy: 0.6555\n",
      "Epoch 33/100\n",
      "209/209 [==============================] - 0s 170us/step - loss: 1.1501 - binary_accuracy: 0.6555\n",
      "Epoch 34/100\n",
      "209/209 [==============================] - 0s 200us/step - loss: 1.0431 - binary_accuracy: 0.6555\n",
      "Epoch 35/100\n",
      "209/209 [==============================] - 0s 158us/step - loss: 0.9661 - binary_accuracy: 0.6555\n",
      "Epoch 36/100\n",
      "209/209 [==============================] - 0s 242us/step - loss: 0.9240 - binary_accuracy: 0.6555\n",
      "Epoch 37/100\n",
      "209/209 [==============================] - 0s 194us/step - loss: 0.8705 - binary_accuracy: 0.6603\n",
      "Epoch 38/100\n",
      "209/209 [==============================] - 0s 200us/step - loss: 0.7670 - binary_accuracy: 0.6603\n",
      "Epoch 39/100\n",
      "209/209 [==============================] - 0s 211us/step - loss: 0.7129 - binary_accuracy: 0.6603\n",
      "Epoch 40/100\n",
      "209/209 [==============================] - 0s 204us/step - loss: 0.6874 - binary_accuracy: 0.6603\n",
      "Epoch 41/100\n",
      "209/209 [==============================] - 0s 181us/step - loss: 0.6718 - binary_accuracy: 0.6603\n",
      "Epoch 42/100\n",
      "209/209 [==============================] - 0s 238us/step - loss: 0.6520 - binary_accuracy: 0.6603\n",
      "Epoch 43/100\n",
      "209/209 [==============================] - 0s 180us/step - loss: 0.6408 - binary_accuracy: 0.6603\n",
      "Epoch 44/100\n",
      "209/209 [==============================] - 0s 181us/step - loss: 0.6341 - binary_accuracy: 0.6603\n",
      "Epoch 45/100\n",
      "209/209 [==============================] - 0s 229us/step - loss: 0.6278 - binary_accuracy: 0.6603\n",
      "Epoch 46/100\n",
      "209/209 [==============================] - 0s 242us/step - loss: 0.6304 - binary_accuracy: 0.6603\n",
      "Epoch 47/100\n",
      "209/209 [==============================] - 0s 254us/step - loss: 0.6323 - binary_accuracy: 0.6603\n",
      "Epoch 48/100\n",
      "209/209 [==============================] - 0s 195us/step - loss: 0.6296 - binary_accuracy: 0.6603\n",
      "Epoch 49/100\n",
      "209/209 [==============================] - 0s 231us/step - loss: 0.6186 - binary_accuracy: 0.6603\n",
      "Epoch 50/100\n",
      "209/209 [==============================] - 0s 190us/step - loss: 0.6287 - binary_accuracy: 0.6603\n",
      "Epoch 51/100\n",
      "209/209 [==============================] - 0s 180us/step - loss: 0.6262 - binary_accuracy: 0.6603\n",
      "Epoch 52/100\n",
      "209/209 [==============================] - 0s 225us/step - loss: 0.6176 - binary_accuracy: 0.6603\n",
      "Epoch 53/100\n",
      "209/209 [==============================] - 0s 182us/step - loss: 0.6355 - binary_accuracy: 0.6603\n",
      "Epoch 54/100\n",
      "209/209 [==============================] - 0s 186us/step - loss: 0.6336 - binary_accuracy: 0.6603\n",
      "Epoch 55/100\n",
      "209/209 [==============================] - 0s 213us/step - loss: 0.6261 - binary_accuracy: 0.6603\n",
      "Epoch 56/100\n",
      "209/209 [==============================] - 0s 211us/step - loss: 0.6056 - binary_accuracy: 0.6603\n",
      "Epoch 57/100\n",
      "209/209 [==============================] - 0s 215us/step - loss: 0.6118 - binary_accuracy: 0.6890\n",
      "Epoch 58/100\n",
      "209/209 [==============================] - 0s 208us/step - loss: 0.6088 - binary_accuracy: 0.6603\n",
      "Epoch 59/100\n",
      "209/209 [==============================] - 0s 159us/step - loss: 0.6195 - binary_accuracy: 0.7033\n",
      "Epoch 60/100\n",
      "209/209 [==============================] - 0s 234us/step - loss: 0.6281 - binary_accuracy: 0.6603\n",
      "Epoch 61/100\n",
      "209/209 [==============================] - 0s 169us/step - loss: 0.6103 - binary_accuracy: 0.6986\n",
      "Epoch 62/100\n",
      "209/209 [==============================] - 0s 172us/step - loss: 0.6093 - binary_accuracy: 0.6603\n",
      "Epoch 63/100\n",
      "209/209 [==============================] - 0s 214us/step - loss: 0.6132 - binary_accuracy: 0.7177\n",
      "Epoch 64/100\n",
      "209/209 [==============================] - 0s 180us/step - loss: 0.6230 - binary_accuracy: 0.6603\n",
      "Epoch 65/100\n",
      "209/209 [==============================] - 0s 265us/step - loss: 0.6222 - binary_accuracy: 0.7081\n",
      "Epoch 66/100\n",
      "209/209 [==============================] - 0s 203us/step - loss: 0.6038 - binary_accuracy: 0.6651\n",
      "Epoch 67/100\n",
      "209/209 [==============================] - 0s 209us/step - loss: 0.5895 - binary_accuracy: 0.7081\n",
      "Epoch 68/100\n",
      "209/209 [==============================] - 0s 163us/step - loss: 0.5726 - binary_accuracy: 0.6890\n",
      "Epoch 69/100\n",
      "209/209 [==============================] - 0s 192us/step - loss: 0.5600 - binary_accuracy: 0.7177\n",
      "Epoch 70/100\n",
      "209/209 [==============================] - 0s 159us/step - loss: 0.5544 - binary_accuracy: 0.7225\n",
      "Epoch 71/100\n",
      "209/209 [==============================] - 0s 202us/step - loss: 0.6415 - binary_accuracy: 0.6699\n",
      "Epoch 72/100\n",
      "209/209 [==============================] - 0s 180us/step - loss: 0.9183 - binary_accuracy: 0.3732\n",
      "Epoch 73/100\n",
      "209/209 [==============================] - 0s 215us/step - loss: 0.5958 - binary_accuracy: 0.6603\n",
      "Epoch 74/100\n",
      "209/209 [==============================] - 0s 156us/step - loss: 0.5813 - binary_accuracy: 0.6699\n",
      "Epoch 75/100\n",
      "209/209 [==============================] - 0s 184us/step - loss: 0.6201 - binary_accuracy: 0.6746\n",
      "Epoch 76/100\n",
      "209/209 [==============================] - 0s 172us/step - loss: 0.6068 - binary_accuracy: 0.6603\n",
      "Epoch 77/100\n",
      "209/209 [==============================] - 0s 150us/step - loss: 0.5759 - binary_accuracy: 0.6938\n",
      "Epoch 78/100\n",
      "209/209 [==============================] - 0s 185us/step - loss: 0.5648 - binary_accuracy: 0.7225\n",
      "Epoch 79/100\n",
      "209/209 [==============================] - 0s 207us/step - loss: 0.5628 - binary_accuracy: 0.6986\n",
      "Epoch 80/100\n",
      "209/209 [==============================] - 0s 181us/step - loss: 0.6710 - binary_accuracy: 0.5359\n",
      "Epoch 81/100\n",
      "209/209 [==============================] - 0s 185us/step - loss: 0.6170 - binary_accuracy: 0.6651\n",
      "Epoch 82/100\n",
      "209/209 [==============================] - 0s 151us/step - loss: 0.5589 - binary_accuracy: 0.7273\n",
      "Epoch 83/100\n",
      "209/209 [==============================] - 0s 173us/step - loss: 0.5630 - binary_accuracy: 0.7560\n",
      "Epoch 84/100\n",
      "209/209 [==============================] - 0s 155us/step - loss: 0.5895 - binary_accuracy: 0.6890\n",
      "Epoch 85/100\n",
      "209/209 [==============================] - 0s 165us/step - loss: 0.5827 - binary_accuracy: 0.6986\n",
      "Epoch 86/100\n",
      "209/209 [==============================] - 0s 219us/step - loss: 0.6202 - binary_accuracy: 0.6746\n",
      "Epoch 87/100\n",
      "209/209 [==============================] - 0s 210us/step - loss: 0.5645 - binary_accuracy: 0.7416\n",
      "Epoch 88/100\n",
      "209/209 [==============================] - 0s 217us/step - loss: 0.5412 - binary_accuracy: 0.7129\n",
      "Epoch 89/100\n",
      "209/209 [==============================] - 0s 197us/step - loss: 0.5677 - binary_accuracy: 0.6890\n",
      "Epoch 90/100\n",
      "209/209 [==============================] - 0s 196us/step - loss: 0.6357 - binary_accuracy: 0.6746\n",
      "Epoch 91/100\n",
      "209/209 [==============================] - 0s 205us/step - loss: 0.5517 - binary_accuracy: 0.7273\n",
      "Epoch 92/100\n",
      "209/209 [==============================] - 0s 243us/step - loss: 0.5350 - binary_accuracy: 0.7129\n",
      "Epoch 93/100\n",
      "209/209 [==============================] - 0s 175us/step - loss: 0.5551 - binary_accuracy: 0.6746\n",
      "Epoch 94/100\n",
      "209/209 [==============================] - 0s 213us/step - loss: 0.6967 - binary_accuracy: 0.6746\n",
      "Epoch 95/100\n",
      "209/209 [==============================] - 0s 186us/step - loss: 0.5539 - binary_accuracy: 0.7321\n",
      "Epoch 96/100\n",
      "209/209 [==============================] - 0s 200us/step - loss: 0.5451 - binary_accuracy: 0.7081\n",
      "Epoch 97/100\n",
      "209/209 [==============================] - 0s 226us/step - loss: 0.5823 - binary_accuracy: 0.6746\n",
      "Epoch 98/100\n",
      "209/209 [==============================] - 0s 235us/step - loss: 0.5624 - binary_accuracy: 0.7033\n",
      "Epoch 99/100\n",
      "209/209 [==============================] - 0s 191us/step - loss: 0.5251 - binary_accuracy: 0.7368\n",
      "Epoch 100/100\n",
      "209/209 [==============================] - 0s 183us/step - loss: 0.5040 - binary_accuracy: 0.7512\n"
     ]
    },
    {
     "data": {
      "text/plain": [
       "<keras.callbacks.History at 0x7fec489cd400>"
      ]
     },
     "execution_count": 13,
     "metadata": {},
     "output_type": "execute_result"
    }
   ],
   "source": [
    "model = Sequential([\n",
    "Dense(hidden_neurons, input_dim=input_size),\n",
    "Activation('sigmoid'),\n",
    "Dense(classes),\n",
    "Dense(classes),\n",
    "Activation('softmax')\n",
    "])\n",
    "\n",
    "model.compile(loss='categorical_crossentropy',\n",
    "metrics=['binary_accuracy'], optimizer= 'rmsprop' )\n",
    "# with sgd accuracy is 0.7\n",
    "# adam as optimizer is bad\n",
    "model.fit(X_train, y_train, batch_size=batch_size, nb_epoch=epochs, verbose=1)"
   ]
  },
  {
   "cell_type": "code",
   "execution_count": 15,
   "metadata": {},
   "outputs": [
    {
     "name": "stdout",
     "output_type": "stream",
     "text": [
      "50/50 [==============================] - 0s 97us/step\n",
      "Test accuracy: 0.7199999952316284\n",
      "score : 0.6309926450252532\n"
     ]
    }
   ],
   "source": [
    "Score = []\n",
    "# fit the model\n",
    "score = model.evaluate(X_test, y_test1, verbose=1) \n",
    "print('Test accuracy:', score[1])\n",
    "y_hat_xgb = model.predict(X_test)\n",
    "Score.append(score)\n",
    "\n",
    "print('score :', np.mean(np.array(score)))\n"
   ]
  },
  {
   "cell_type": "code",
   "execution_count": 16,
   "metadata": {},
   "outputs": [
    {
     "name": "stdout",
     "output_type": "stream",
     "text": [
      "[0.2332634 0.7667366]  :  [0. 1.]\n",
      "[0.43536583 0.5646342 ]  :  [0. 1.]\n",
      "[0.3561743  0.64382565]  :  [0. 1.]\n",
      "[0.3318843 0.6681157]  :  [0. 1.]\n",
      "[0.38288262 0.6171174 ]  :  [0. 1.]\n",
      "[0.38911957 0.61088043]  :  [1. 0.]\n",
      "[0.51296353 0.48703644]  :  [0. 1.]\n",
      "[0.2626108  0.73738927]  :  [0. 1.]\n",
      "[0.36286694 0.637133  ]  :  [0. 1.]\n",
      "[0.40987504 0.5901249 ]  :  [0. 1.]\n",
      "[0.36229438 0.6377056 ]  :  [0. 1.]\n",
      "[0.46036357 0.53963643]  :  [0. 1.]\n",
      "[0.30211645 0.6978835 ]  :  [0. 1.]\n",
      "[0.44733766 0.5526624 ]  :  [1. 0.]\n",
      "[0.6874307  0.31256935]  :  [1. 0.]\n",
      "[0.2571893 0.7428108]  :  [0. 1.]\n",
      "[0.5878709 0.4121291]  :  [1. 0.]\n",
      "[0.46718767 0.53281236]  :  [0. 1.]\n",
      "[0.59107524 0.40892485]  :  [0. 1.]\n",
      "[0.65639484 0.3436051 ]  :  [0. 1.]\n",
      "[0.37816682 0.6218332 ]  :  [0. 1.]\n",
      "[0.7744953  0.22550474]  :  [1. 0.]\n",
      "[0.7894138  0.21058623]  :  [1. 0.]\n",
      "[0.5157863  0.48421377]  :  [0. 1.]\n",
      "[0.24518397 0.75481606]  :  [0. 1.]\n",
      "[0.08516949 0.9148305 ]  :  [0. 1.]\n",
      "[0.50336725 0.49663278]  :  [0. 1.]\n",
      "[0.6924716 0.3075284]  :  [1. 0.]\n",
      "[0.5233728 0.4766272]  :  [0. 1.]\n",
      "[0.35291132 0.6470887 ]  :  [1. 0.]\n",
      "[0.40556318 0.5944368 ]  :  [0. 1.]\n",
      "[0.34739578 0.6526042 ]  :  [0. 1.]\n",
      "[0.31374598 0.68625396]  :  [0. 1.]\n",
      "[0.41348317 0.5865168 ]  :  [0. 1.]\n",
      "[0.4165847  0.58341527]  :  [1. 0.]\n",
      "[0.71787846 0.28212157]  :  [1. 0.]\n",
      "[0.5928099  0.40719008]  :  [1. 0.]\n",
      "[0.38604906 0.6139509 ]  :  [0. 1.]\n",
      "[0.37795517 0.62204486]  :  [1. 0.]\n",
      "[0.78685296 0.21314703]  :  [1. 0.]\n",
      "[0.5042879  0.49571216]  :  [0. 1.]\n",
      "[0.24929035 0.75070965]  :  [0. 1.]\n",
      "[0.5183442 0.4816558]  :  [0. 1.]\n",
      "[0.74878377 0.2512163 ]  :  [1. 0.]\n",
      "[0.31370944 0.68629056]  :  [1. 0.]\n",
      "[0.67835087 0.32164916]  :  [1. 0.]\n",
      "[0.49043417 0.5095659 ]  :  [0. 1.]\n",
      "[0.33154055 0.6684594 ]  :  [0. 1.]\n",
      "[0.4793648 0.5206352]  :  [0. 1.]\n",
      "[0.6201165  0.37988353]  :  [1. 0.]\n"
     ]
    }
   ],
   "source": [
    "for i in range(len(y_hat_xgb)):\n",
    "    print(y_hat_xgb[i], ' : ', y_test1[i])"
   ]
  },
  {
   "cell_type": "code",
   "execution_count": 17,
   "metadata": {},
   "outputs": [],
   "source": [
    "y_pred = np.argmax(y_hat_xgb, axis = 1)"
   ]
  },
  {
   "cell_type": "code",
   "execution_count": 18,
   "metadata": {},
   "outputs": [
    {
     "data": {
      "text/plain": [
       "array([1, 1, 1, 1, 1, 1, 0, 1, 1, 1, 1, 1, 1, 1, 0, 1, 0, 1, 0, 0, 1, 0,\n",
       "       0, 0, 1, 1, 0, 0, 0, 1, 1, 1, 1, 1, 1, 0, 0, 1, 1, 0, 0, 1, 0, 0,\n",
       "       1, 0, 1, 1, 1, 0])"
      ]
     },
     "execution_count": 18,
     "metadata": {},
     "output_type": "execute_result"
    }
   ],
   "source": [
    "y_pred"
   ]
  },
  {
   "cell_type": "code",
   "execution_count": 19,
   "metadata": {},
   "outputs": [
    {
     "data": {
      "text/plain": [
       "0.72"
      ]
     },
     "execution_count": 19,
     "metadata": {},
     "output_type": "execute_result"
    }
   ],
   "source": [
    "from sklearn.metrics import accuracy_score\n",
    "accuracy_score(y_pred, y_test)"
   ]
  },
  {
   "cell_type": "code",
   "execution_count": 20,
   "metadata": {},
   "outputs": [
    {
     "data": {
      "text/plain": [
       "array([[11,  8],\n",
       "       [ 6, 25]])"
      ]
     },
     "execution_count": 20,
     "metadata": {},
     "output_type": "execute_result"
    }
   ],
   "source": [
    "from sklearn.metrics import confusion_matrix\n",
    "confusion_matrix(y_pred, y_test)"
   ]
  },
  {
   "cell_type": "code",
   "execution_count": 21,
   "metadata": {},
   "outputs": [
    {
     "name": "stdout",
     "output_type": "stream",
     "text": [
      "5\n",
      "6\n",
      "13\n",
      "18\n",
      "19\n",
      "23\n",
      "26\n",
      "28\n",
      "29\n",
      "34\n",
      "38\n",
      "40\n",
      "42\n",
      "44\n"
     ]
    }
   ],
   "source": [
    "for i in range(len(y_pred)):\n",
    "    if (y_pred[i] != y_test[i]):\n",
    "        print(i)\n",
    "        \n",
    "    #print(y_pred[i], \" : \", y_test[i])"
   ]
  },
  {
   "cell_type": "code",
   "execution_count": 22,
   "metadata": {},
   "outputs": [
    {
     "data": {
      "text/plain": [
       "(64, 64, 3)"
      ]
     },
     "execution_count": 22,
     "metadata": {},
     "output_type": "execute_result"
    }
   ],
   "source": [
    "test_set_x_orig[10].shape"
   ]
  },
  {
   "cell_type": "code",
   "execution_count": 23,
   "metadata": {},
   "outputs": [
    {
     "data": {
      "image/png": "[encoded data removed]",
      "text/plain": [
       "<Figure size 432x288 with 1 Axes>"
      ]
     },
     "metadata": {
      "needs_background": "light"
     },
     "output_type": "display_data"
    }
   ],
   "source": [
    "plt.imshow(test_set_x_orig[1])\n",
    "plt.show()"
   ]
  },
  {
   "cell_type": "code",
   "execution_count": null,
   "metadata": {},
   "outputs": [],
   "source": []
  }
 ],
 "metadata": {
  "kernelspec": {
   "display_name": "Python 3",
   "language": "python",
   "name": "python3"
  },
  "language_info": {
   "codemirror_mode": {
    "name": "ipython",
    "version": 3
   },
   "file_extension": ".py",
   "mimetype": "text/x-python",
   "name": "python",
   "nbconvert_exporter": "python",
   "pygments_lexer": "ipython3",
   "version": "3.7.2"
  }
 },
 "nbformat": 4,
 "nbformat_minor": 2
}
