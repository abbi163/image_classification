{
 "cells": [
  {
   "cell_type": "markdown",
   "metadata": {},
   "source": [
    "## Using Artificial Sequential model we will be creating a binary classifier of Cat image, (CAT | NO CAT)"
   ]
  },
  {
   "cell_type": "markdown",
   "metadata": {},
   "source": [
    "### 1 - Packages ##\n",
    "\n",
    "First, let's run the cell below to import all the packages that you will need during this assignment. \n",
    "- [numpy](www.numpy.org) is the fundamental package for scientific computing with Python.\n",
    "- [h5py](http://www.h5py.org) is a common package to interact with a dataset that is stored on an H5 file.\n",
    "- [matplotlib](http://matplotlib.org) is a famous library to plot graphs in Python.\n",
    "- [PIL](http://www.pythonware.com/products/pil/) and [scipy](https://www.scipy.org/) are used here to test your model with your own picture at the end.\n",
    "- keras framework is used to construct the ANN "
   ]
  },
  {
   "cell_type": "code",
   "execution_count": 1,
   "metadata": {},
   "outputs": [],
   "source": [
    "import numpy as np\n",
    "import matplotlib.pyplot as plt\n",
    "import h5py\n",
    "import scipy\n",
    "from PIL import Image\n",
    "from scipy import ndimage\n",
    "from lr_utils import load_dataset\n",
    "\n",
    "%matplotlib inline"
   ]
  },
  {
   "cell_type": "markdown",
   "metadata": {},
   "source": [
    "### 2 - Overview of the Problem set ##\n",
    "\n",
    "**Problem Statement**: We are given a dataset (\"data.h5\") containing:\n",
    "    - a training set of m_train images labeled as cat (y=1) or non-cat (y=0)\n",
    "    - a test set of m_test images labeled as cat or non-cat\n",
    "    - each image is of shape (num_px, num_px, 3) where 3 is for the 3 channels (RGB). Thus, each image is square (height = num_px) and (width = num_px).\n",
    "\n",
    "You will build a simple image-recognition algorithm that can correctly classify pictures as cat or non-cat.\n",
    "\n",
    "Let's get more familiar with the dataset. Load the data by running the following code."
   ]
  },
  {
   "cell_type": "code",
   "execution_count": 2,
   "metadata": {},
   "outputs": [],
   "source": [
    "# Loading the data (cat/non-cat)\n",
    "train_set_x_orig, train_set_y, test_set_x_orig, test_set_y, classes = load_dataset()"
   ]
  },
  {
   "cell_type": "markdown",
   "metadata": {},
   "source": [
    "We added \"_orig\" at the end of image datasets (train and test) because we are going to preprocess them. After preprocessing, we will end up with train_set_x and test_set_x (the labels train_set_y and test_set_y don't need any preprocessing).\n",
    "\n",
    "Each line of your train_set_x_orig and test_set_x_orig is an array representing an image. You can visualize an example by running the following code. Feel free also to change the `index` value and re-run to see other images. "
   ]
  },
  {
   "cell_type": "code",
   "execution_count": 3,
   "metadata": {},
   "outputs": [
    {
     "data": {
      "text/plain": [
       "(209, 64, 64, 3)"
      ]
     },
     "execution_count": 3,
     "metadata": {},
     "output_type": "execute_result"
    }
   ],
   "source": [
    "train_set_x_orig.shape"
   ]
  },
  {
   "cell_type": "code",
   "execution_count": 4,
   "metadata": {},
   "outputs": [
    {
     "name": "stdout",
     "output_type": "stream",
     "text": [
      "y = [0], it's a 'non-cat' picture.\n"
     ]
    },
    {
     "data": {
      "text/plain": [
       "<function matplotlib.pyplot.show(*args, **kw)>"
      ]
     },
     "execution_count": 4,
     "metadata": {},
     "output_type": "execute_result"
    },
    {
     "data": {
      "image/png": "[encoded data removed]",
      "text/plain": [
       "<Figure size 432x288 with 1 Axes>"
      ]
     },
     "metadata": {
      "needs_background": "light"
     },
     "output_type": "display_data"
    }
   ],
   "source": [
    "# Example of a picture\n",
    "index = 16\n",
    "plt.imshow(train_set_x_orig[index])\n",
    "print (\"y = \" + str(train_set_y[:, index]) + \", it's a '\" + classes[np.squeeze(train_set_y[:, index])].decode(\"utf-8\") +  \"' picture.\")\n",
    "plt.show"
   ]
  },
  {
   "cell_type": "markdown",
   "metadata": {},
   "source": [
    "Many software bugs in deep learning come from having matrix/vector dimensions that don't fit. If you can keep your matrix/vector dimensions straight you will go a long way toward eliminating many bugs. \n",
    "\n",
    "\n",
    "    - m_train (number of training examples)\n",
    "    - m_test (number of test examples)\n",
    "    - num_px (= height = width of a training image)\n",
    "Remember that `train_set_x_orig` is a numpy-array of shape (m_train, num_px, num_px, 3). For instance, you can access `m_train` by writing `train_set_x_orig.shape[0]`."
   ]
  },
  {
   "cell_type": "code",
   "execution_count": 5,
   "metadata": {},
   "outputs": [
    {
     "name": "stdout",
     "output_type": "stream",
     "text": [
      "Number of training examples: m_train = 209\n",
      "Number of testing examples: m_test = 50\n",
      "Height/Width of each image: num_px = 64\n",
      "Each image is of size: (64, 64, 3)\n",
      "train_set_x shape: (209, 64, 64, 3)\n",
      "train_set_y shape: (1, 209)\n",
      "test_set_x shape: (50, 64, 64, 3)\n",
      "test_set_y shape: (1, 50)\n"
     ]
    }
   ],
   "source": [
    "### START CODE HERE ### (≈ 3 lines of code)\n",
    "m_train = train_set_x_orig.shape[0]\n",
    "m_test = test_set_x_orig.shape[0]\n",
    "num_px = train_set_x_orig.shape[1]\n",
    "### END CODE HERE ###\n",
    "\n",
    "print (\"Number of training examples: m_train = \" + str(m_train))\n",
    "print (\"Number of testing examples: m_test = \" + str(m_test))\n",
    "print (\"Height/Width of each image: num_px = \" + str(num_px))\n",
    "print (\"Each image is of size: (\" + str(num_px) + \", \" + str(num_px) + \", 3)\")\n",
    "print (\"train_set_x shape: \" + str(train_set_x_orig.shape))\n",
    "print (\"train_set_y shape: \" + str(train_set_y.shape))\n",
    "print (\"test_set_x shape: \" + str(test_set_x_orig.shape))\n",
    "print (\"test_set_y shape: \" + str(test_set_y.shape))"
   ]
  },
  {
   "cell_type": "markdown",
   "metadata": {},
   "source": [
    "### 2 - Flattening of the image ! ##\n",
    "For convenience, you should now reshape images of shape (num_px, num_px, 3) in a numpy-array of shape (num_px $*$ num_px $*$ 3, 1). After this, our training (and test) dataset is a numpy-array where each column represents a flattened image. There should be m_train (respectively m_test) columns.\n",
    "\n",
    "We will reshape the training and test data sets so that images of size (num_px, num_px, 3) are flattened into single vectors of shape (num\\_px $*$ num\\_px $*$ 3, 1).\n",
    "\n",
    "A trick when you want to flatten a matrix X of shape (a,b,c,d) to a matrix X_flatten of shape (b$*$c$*$d, a) is to use: \n",
    "```python\n",
    "X_flatten = X.reshape(X.shape[0], -1).T      # X.T is the transpose of X\n",
    "```"
   ]
  },
  {
   "cell_type": "code",
   "execution_count": 6,
   "metadata": {},
   "outputs": [],
   "source": [
    "X_train_flatten = train_set_x_orig.reshape(train_set_x_orig.shape[0], -1)\n",
    "X_test_flatten =  test_set_x_orig.reshape(test_set_x_orig.shape[0], -1)"
   ]
  },
  {
   "cell_type": "markdown",
   "metadata": {},
   "source": [
    "## 3 -Normalization of image !!\n",
    "#### Since our image array is an array in range 0-255 we will do simple normalization first, i.e  we will divide the array by 255"
   ]
  },
  {
   "cell_type": "code",
   "execution_count": 7,
   "metadata": {},
   "outputs": [],
   "source": [
    "X_train = X_train_flatten / 255\n",
    "X_test = X_test_flatten / 255"
   ]
  },
  {
   "cell_type": "code",
   "execution_count": 8,
   "metadata": {},
   "outputs": [
    {
     "data": {
      "text/plain": [
       "array([0, 1])"
      ]
     },
     "execution_count": 8,
     "metadata": {},
     "output_type": "execute_result"
    }
   ],
   "source": [
    "y_train = train_set_y.T\n",
    "y_test = test_set_y.T\n",
    "np.unique(y_train)"
   ]
  },
  {
   "cell_type": "code",
   "execution_count": 9,
   "metadata": {},
   "outputs": [
    {
     "data": {
      "text/plain": [
       "209"
      ]
     },
     "execution_count": 9,
     "metadata": {},
     "output_type": "execute_result"
    }
   ],
   "source": [
    "X_train.shape[0]"
   ]
  },
  {
   "cell_type": "code",
   "execution_count": 10,
   "metadata": {},
   "outputs": [
    {
     "name": "stdout",
     "output_type": "stream",
     "text": [
      "(209, 12288)\n",
      "(209, 1)\n"
     ]
    }
   ],
   "source": [
    "print(X_train.shape)\n",
    "print(y_train.shape)"
   ]
  },
  {
   "cell_type": "markdown",
   "metadata": {},
   "source": [
    "### To categorical features"
   ]
  },
  {
   "cell_type": "code",
   "execution_count": 11,
   "metadata": {},
   "outputs": [
    {
     "name": "stderr",
     "output_type": "stream",
     "text": [
      "Using TensorFlow backend.\n"
     ]
    }
   ],
   "source": [
    "from keras.models import Sequential\n",
    "from keras.layers.core import Dense, Activation\n",
    "from keras.utils import np_utils\n",
    "from keras import optimizers\n",
    "\n",
    "classes = 2\n",
    "y_train = np_utils.to_categorical(y_train, classes)\n",
    "y_test1 = np_utils.to_categorical(y_test, classes)"
   ]
  },
  {
   "cell_type": "markdown",
   "metadata": {},
   "source": [
    "##### Here it's cleary visible that it is a binary classification problem with prediction either 0 or 1. "
   ]
  },
  {
   "cell_type": "markdown",
   "metadata": {},
   "source": [
    "# 4- Model Architecture !!\n",
    "##### We will be creating a 2 hidden layer ANN architecture with first layer as dense as 100 and activation function as 'sigmoid' and another activation function 'softmax'. Second layer is output layer with 'logistic' as output function. "
   ]
  },
  {
   "cell_type": "code",
   "execution_count": 12,
   "metadata": {},
   "outputs": [],
   "source": [
    "input_size = 12288\n",
    "batch_size = 100\n",
    "hidden_neurons = 100\n",
    "epochs = 100"
   ]
  },
  {
   "cell_type": "code",
   "execution_count": 13,
   "metadata": {},
   "outputs": [
    {
     "name": "stdout",
     "output_type": "stream",
     "text": [
      "WARNING:tensorflow:From /home/abhijeet/anaconda3/lib/python3.7/site-packages/tensorflow/python/framework/op_def_library.py:263: colocate_with (from tensorflow.python.framework.ops) is deprecated and will be removed in a future version.\n",
      "Instructions for updating:\n",
      "Colocations handled automatically by placer.\n",
      "WARNING:tensorflow:From /home/abhijeet/anaconda3/lib/python3.7/site-packages/tensorflow/python/ops/math_ops.py:3066: to_int32 (from tensorflow.python.ops.math_ops) is deprecated and will be removed in a future version.\n",
      "Instructions for updating:\n",
      "Use tf.cast instead.\n",
      "Epoch 1/100\n"
     ]
    },
    {
     "name": "stderr",
     "output_type": "stream",
     "text": [
      "/home/abhijeet/anaconda3/lib/python3.7/site-packages/ipykernel_launcher.py:13: UserWarning: The `nb_epoch` argument in `fit` has been renamed `epochs`.\n",
      "  del sys.path[0]\n"
     ]
    },
    {
     "name": "stdout",
     "output_type": "stream",
     "text": [
      "209/209 [==============================] - 0s 1ms/step - loss: 6.0505 - binary_accuracy: 0.4354\n",
      "Epoch 2/100\n",
      "209/209 [==============================] - 0s 202us/step - loss: 9.2900 - binary_accuracy: 0.3445\n",
      "Epoch 3/100\n",
      "209/209 [==============================] - 0s 218us/step - loss: 8.6317 - binary_accuracy: 0.3445\n",
      "Epoch 4/100\n",
      "209/209 [==============================] - 0s 181us/step - loss: 8.1131 - binary_accuracy: 0.3445\n",
      "Epoch 5/100\n",
      "209/209 [==============================] - 0s 185us/step - loss: 7.7021 - binary_accuracy: 0.3493\n",
      "Epoch 6/100\n",
      "209/209 [==============================] - 0s 189us/step - loss: 6.9503 - binary_accuracy: 0.3493\n",
      "Epoch 7/100\n",
      "209/209 [==============================] - 0s 225us/step - loss: 6.4741 - binary_accuracy: 0.3493\n",
      "Epoch 8/100\n",
      "209/209 [==============================] - 0s 225us/step - loss: 4.5672 - binary_accuracy: 0.3493\n",
      "Epoch 9/100\n",
      "209/209 [==============================] - 0s 193us/step - loss: 0.7833 - binary_accuracy: 0.5215\n",
      "Epoch 10/100\n",
      "209/209 [==============================] - 0s 189us/step - loss: 0.6284 - binary_accuracy: 0.6507\n",
      "Epoch 11/100\n",
      "209/209 [==============================] - 0s 178us/step - loss: 0.6461 - binary_accuracy: 0.6555\n",
      "Epoch 12/100\n",
      "209/209 [==============================] - 0s 192us/step - loss: 0.6477 - binary_accuracy: 0.6555\n",
      "Epoch 13/100\n",
      "209/209 [==============================] - 0s 202us/step - loss: 0.6690 - binary_accuracy: 0.6603\n",
      "Epoch 14/100\n",
      "209/209 [==============================] - 0s 206us/step - loss: 0.6403 - binary_accuracy: 0.6316\n",
      "Epoch 15/100\n",
      "209/209 [==============================] - 0s 212us/step - loss: 0.6340 - binary_accuracy: 0.6603\n",
      "Epoch 16/100\n",
      "209/209 [==============================] - 0s 245us/step - loss: 0.6211 - binary_accuracy: 0.6651\n",
      "Epoch 17/100\n",
      "209/209 [==============================] - 0s 192us/step - loss: 0.6042 - binary_accuracy: 0.6507\n",
      "Epoch 18/100\n",
      "209/209 [==============================] - 0s 248us/step - loss: 0.5921 - binary_accuracy: 0.6842\n",
      "Epoch 19/100\n",
      "209/209 [==============================] - 0s 219us/step - loss: 0.6850 - binary_accuracy: 0.6603\n",
      "Epoch 20/100\n",
      "209/209 [==============================] - 0s 280us/step - loss: 0.6079 - binary_accuracy: 0.6316\n",
      "Epoch 21/100\n",
      "209/209 [==============================] - 0s 246us/step - loss: 0.6432 - binary_accuracy: 0.6699\n",
      "Epoch 22/100\n",
      "209/209 [==============================] - 0s 171us/step - loss: 0.7045 - binary_accuracy: 0.5024\n",
      "Epoch 23/100\n",
      "209/209 [==============================] - 0s 225us/step - loss: 0.5995 - binary_accuracy: 0.6794\n",
      "Epoch 24/100\n",
      "209/209 [==============================] - 0s 190us/step - loss: 0.5995 - binary_accuracy: 0.6938\n",
      "Epoch 25/100\n",
      "209/209 [==============================] - 0s 246us/step - loss: 0.7076 - binary_accuracy: 0.5311\n",
      "Epoch 26/100\n",
      "209/209 [==============================] - 0s 205us/step - loss: 0.6503 - binary_accuracy: 0.6029\n",
      "Epoch 27/100\n",
      "209/209 [==============================] - 0s 192us/step - loss: 0.6389 - binary_accuracy: 0.6699\n",
      "Epoch 28/100\n",
      "209/209 [==============================] - 0s 196us/step - loss: 0.6842 - binary_accuracy: 0.5598\n",
      "Epoch 29/100\n",
      "209/209 [==============================] - 0s 165us/step - loss: 0.7350 - binary_accuracy: 0.6555\n",
      "Epoch 30/100\n",
      "209/209 [==============================] - 0s 261us/step - loss: 0.6258 - binary_accuracy: 0.6651\n",
      "Epoch 31/100\n",
      "209/209 [==============================] - 0s 227us/step - loss: 0.5937 - binary_accuracy: 0.6651\n",
      "Epoch 32/100\n",
      "209/209 [==============================] - 0s 247us/step - loss: 0.5880 - binary_accuracy: 0.6890\n",
      "Epoch 33/100\n",
      "209/209 [==============================] - 0s 192us/step - loss: 0.6684 - binary_accuracy: 0.5885\n",
      "Epoch 34/100\n",
      "209/209 [==============================] - 0s 246us/step - loss: 0.5652 - binary_accuracy: 0.7033\n",
      "Epoch 35/100\n",
      "209/209 [==============================] - 0s 145us/step - loss: 0.7798 - binary_accuracy: 0.6842\n",
      "Epoch 36/100\n",
      "209/209 [==============================] - 0s 228us/step - loss: 0.5428 - binary_accuracy: 0.7033\n",
      "Epoch 37/100\n",
      "209/209 [==============================] - 0s 211us/step - loss: 0.6290 - binary_accuracy: 0.6268\n",
      "Epoch 38/100\n",
      "209/209 [==============================] - 0s 216us/step - loss: 0.7825 - binary_accuracy: 0.6746\n",
      "Epoch 39/100\n",
      "209/209 [==============================] - 0s 212us/step - loss: 0.5926 - binary_accuracy: 0.6603\n",
      "Epoch 40/100\n",
      "209/209 [==============================] - 0s 252us/step - loss: 0.6569 - binary_accuracy: 0.6794\n",
      "Epoch 41/100\n",
      "209/209 [==============================] - 0s 271us/step - loss: 0.6830 - binary_accuracy: 0.5550\n",
      "Epoch 42/100\n",
      "209/209 [==============================] - 0s 210us/step - loss: 0.6564 - binary_accuracy: 0.6890\n",
      "Epoch 43/100\n",
      "209/209 [==============================] - 0s 196us/step - loss: 0.7460 - binary_accuracy: 0.5407\n",
      "Epoch 44/100\n",
      "209/209 [==============================] - 0s 218us/step - loss: 0.5648 - binary_accuracy: 0.6794\n",
      "Epoch 45/100\n",
      "209/209 [==============================] - 0s 222us/step - loss: 0.5740 - binary_accuracy: 0.6603\n",
      "Epoch 46/100\n",
      "209/209 [==============================] - 0s 221us/step - loss: 0.7964 - binary_accuracy: 0.5694\n",
      "Epoch 47/100\n",
      "209/209 [==============================] - 0s 198us/step - loss: 0.5466 - binary_accuracy: 0.6938\n",
      "Epoch 48/100\n",
      "209/209 [==============================] - 0s 194us/step - loss: 0.5385 - binary_accuracy: 0.7177\n",
      "Epoch 49/100\n",
      "209/209 [==============================] - 0s 207us/step - loss: 0.5485 - binary_accuracy: 0.6938\n",
      "Epoch 50/100\n",
      "209/209 [==============================] - 0s 222us/step - loss: 0.5605 - binary_accuracy: 0.6986\n",
      "Epoch 51/100\n",
      "209/209 [==============================] - 0s 207us/step - loss: 0.5022 - binary_accuracy: 0.7321\n",
      "Epoch 52/100\n",
      "209/209 [==============================] - 0s 203us/step - loss: 0.7401 - binary_accuracy: 0.6794\n",
      "Epoch 53/100\n",
      "209/209 [==============================] - 0s 235us/step - loss: 0.6158 - binary_accuracy: 0.6172\n",
      "Epoch 54/100\n",
      "209/209 [==============================] - 0s 208us/step - loss: 0.5146 - binary_accuracy: 0.7273\n",
      "Epoch 55/100\n",
      "209/209 [==============================] - 0s 258us/step - loss: 0.6196 - binary_accuracy: 0.6842\n",
      "Epoch 56/100\n",
      "209/209 [==============================] - 0s 173us/step - loss: 0.4754 - binary_accuracy: 0.7273\n",
      "Epoch 57/100\n",
      "209/209 [==============================] - 0s 233us/step - loss: 0.7098 - binary_accuracy: 0.5885\n",
      "Epoch 58/100\n",
      "209/209 [==============================] - 0s 231us/step - loss: 0.5497 - binary_accuracy: 0.7033\n",
      "Epoch 59/100\n",
      "209/209 [==============================] - 0s 234us/step - loss: 0.5487 - binary_accuracy: 0.7225\n",
      "Epoch 60/100\n",
      "209/209 [==============================] - 0s 225us/step - loss: 0.4892 - binary_accuracy: 0.7512\n",
      "Epoch 61/100\n",
      "209/209 [==============================] - 0s 241us/step - loss: 0.6444 - binary_accuracy: 0.6507\n",
      "Epoch 62/100\n",
      "209/209 [==============================] - 0s 278us/step - loss: 0.4907 - binary_accuracy: 0.7368\n",
      "Epoch 63/100\n",
      "209/209 [==============================] - 0s 190us/step - loss: 0.6342 - binary_accuracy: 0.6842\n",
      "Epoch 64/100\n",
      "209/209 [==============================] - 0s 217us/step - loss: 0.5012 - binary_accuracy: 0.7273\n",
      "Epoch 65/100\n",
      "209/209 [==============================] - 0s 213us/step - loss: 0.5464 - binary_accuracy: 0.7368\n",
      "Epoch 66/100\n",
      "209/209 [==============================] - 0s 225us/step - loss: 0.4951 - binary_accuracy: 0.7560\n",
      "Epoch 67/100\n",
      "209/209 [==============================] - 0s 250us/step - loss: 0.5108 - binary_accuracy: 0.7321\n",
      "Epoch 68/100\n",
      "209/209 [==============================] - 0s 187us/step - loss: 0.5888 - binary_accuracy: 0.7081\n",
      "Epoch 69/100\n",
      "209/209 [==============================] - 0s 233us/step - loss: 0.4672 - binary_accuracy: 0.7273\n",
      "Epoch 70/100\n",
      "209/209 [==============================] - 0s 219us/step - loss: 0.4913 - binary_accuracy: 0.7368\n",
      "Epoch 71/100\n",
      "209/209 [==============================] - 0s 301us/step - loss: 0.4795 - binary_accuracy: 0.7368\n",
      "Epoch 72/100\n",
      "209/209 [==============================] - 0s 209us/step - loss: 0.5777 - binary_accuracy: 0.6603\n",
      "Epoch 73/100\n",
      "209/209 [==============================] - 0s 190us/step - loss: 0.5935 - binary_accuracy: 0.6986\n",
      "Epoch 74/100\n",
      "209/209 [==============================] - 0s 194us/step - loss: 0.7191 - binary_accuracy: 0.6029\n",
      "Epoch 75/100\n",
      "209/209 [==============================] - 0s 193us/step - loss: 0.5131 - binary_accuracy: 0.6890\n",
      "Epoch 76/100\n",
      "209/209 [==============================] - 0s 186us/step - loss: 0.5387 - binary_accuracy: 0.6555\n",
      "Epoch 77/100\n",
      "209/209 [==============================] - 0s 189us/step - loss: 0.6215 - binary_accuracy: 0.6459\n",
      "Epoch 78/100\n",
      "209/209 [==============================] - 0s 170us/step - loss: 0.4652 - binary_accuracy: 0.7464\n",
      "Epoch 79/100\n",
      "209/209 [==============================] - 0s 172us/step - loss: 0.5347 - binary_accuracy: 0.6794\n",
      "Epoch 80/100\n",
      "209/209 [==============================] - 0s 224us/step - loss: 0.5454 - binary_accuracy: 0.7033\n",
      "Epoch 81/100\n",
      "209/209 [==============================] - 0s 209us/step - loss: 0.4396 - binary_accuracy: 0.7751\n",
      "Epoch 82/100\n",
      "209/209 [==============================] - 0s 159us/step - loss: 0.4666 - binary_accuracy: 0.7512\n",
      "Epoch 83/100\n",
      "209/209 [==============================] - 0s 175us/step - loss: 0.6322 - binary_accuracy: 0.6603\n",
      "Epoch 84/100\n",
      "209/209 [==============================] - 0s 172us/step - loss: 0.4653 - binary_accuracy: 0.7656\n",
      "Epoch 85/100\n",
      "209/209 [==============================] - 0s 213us/step - loss: 0.6893 - binary_accuracy: 0.5837\n",
      "Epoch 86/100\n",
      "209/209 [==============================] - 0s 159us/step - loss: 0.4812 - binary_accuracy: 0.7273\n",
      "Epoch 87/100\n",
      "209/209 [==============================] - 0s 168us/step - loss: 0.5629 - binary_accuracy: 0.6890\n",
      "Epoch 88/100\n",
      "209/209 [==============================] - 0s 190us/step - loss: 0.4526 - binary_accuracy: 0.8182\n",
      "Epoch 89/100\n",
      "209/209 [==============================] - 0s 171us/step - loss: 0.5226 - binary_accuracy: 0.7464\n",
      "Epoch 90/100\n",
      "209/209 [==============================] - 0s 180us/step - loss: 0.5089 - binary_accuracy: 0.6938\n",
      "Epoch 91/100\n",
      "209/209 [==============================] - 0s 185us/step - loss: 0.4471 - binary_accuracy: 0.7847\n",
      "Epoch 92/100\n",
      "209/209 [==============================] - 0s 211us/step - loss: 0.6934 - binary_accuracy: 0.6029\n",
      "Epoch 93/100\n",
      "209/209 [==============================] - 0s 194us/step - loss: 0.4721 - binary_accuracy: 0.7512\n",
      "Epoch 94/100\n",
      "209/209 [==============================] - 0s 254us/step - loss: 0.5925 - binary_accuracy: 0.6555\n",
      "Epoch 95/100\n",
      "209/209 [==============================] - 0s 217us/step - loss: 0.4973 - binary_accuracy: 0.7512\n",
      "Epoch 96/100\n",
      "209/209 [==============================] - 0s 228us/step - loss: 0.5867 - binary_accuracy: 0.7225\n",
      "Epoch 97/100\n",
      "209/209 [==============================] - 0s 181us/step - loss: 0.5398 - binary_accuracy: 0.6986\n",
      "Epoch 98/100\n",
      "209/209 [==============================] - 0s 210us/step - loss: 0.4714 - binary_accuracy: 0.7560\n",
      "Epoch 99/100\n",
      "209/209 [==============================] - 0s 213us/step - loss: 0.4547 - binary_accuracy: 0.7703\n",
      "Epoch 100/100\n",
      "209/209 [==============================] - 0s 208us/step - loss: 0.5442 - binary_accuracy: 0.7033\n"
     ]
    },
    {
     "data": {
      "text/plain": [
       "<keras.callbacks.History at 0x7f1f40fc7a58>"
      ]
     },
     "execution_count": 13,
     "metadata": {},
     "output_type": "execute_result"
    }
   ],
   "source": [
    "model = Sequential([\n",
    "Dense(hidden_neurons, input_dim=input_size),\n",
    "Activation('sigmoid'),\n",
    "Dense(classes),\n",
    "Dense(classes),\n",
    "Activation('softmax')\n",
    "])\n",
    "\n",
    "model.compile(loss='categorical_crossentropy',\n",
    "metrics=['binary_accuracy'], optimizer= 'rmsprop' )\n",
    "# with sgd accuracy is 0.7\n",
    "# adam as optimizer is bad\n",
    "model.fit(X_train, y_train, batch_size=batch_size, nb_epoch=epochs, verbose=1)"
   ]
  },
  {
   "cell_type": "code",
   "execution_count": 14,
   "metadata": {},
   "outputs": [
    {
     "name": "stdout",
     "output_type": "stream",
     "text": [
      "50/50 [==============================] - 0s 415us/step\n",
      "Test accuracy: 0.7399999952316284\n",
      "score : 0.6282858371734619\n"
     ]
    }
   ],
   "source": [
    "Score = []\n",
    "# fit the model\n",
    "score = model.evaluate(X_test, y_test1, verbose=1) \n",
    "print('Test accuracy:', score[1])\n",
    "y_hat_xgb = model.predict(X_test)\n",
    "Score.append(score)\n",
    "\n",
    "print('score :', np.mean(np.array(score)))\n"
   ]
  },
  {
   "cell_type": "code",
   "execution_count": 15,
   "metadata": {},
   "outputs": [
    {
     "name": "stdout",
     "output_type": "stream",
     "text": [
      "[0.18800013 0.81199986]  :  [0. 1.]\n",
      "[0.24654287 0.7534571 ]  :  [0. 1.]\n",
      "[0.17345205 0.826548  ]  :  [0. 1.]\n",
      "[0.2631778 0.7368221]  :  [0. 1.]\n",
      "[0.2505988 0.7494013]  :  [0. 1.]\n",
      "[0.45083922 0.5491608 ]  :  [1. 0.]\n",
      "[0.23513338 0.7648666 ]  :  [0. 1.]\n",
      "[0.27777922 0.7222208 ]  :  [0. 1.]\n",
      "[0.2749914 0.7250086]  :  [0. 1.]\n",
      "[0.1874158 0.8125843]  :  [0. 1.]\n",
      "[0.5457183  0.45428172]  :  [0. 1.]\n",
      "[0.3266768 0.6733232]  :  [0. 1.]\n",
      "[0.35449862 0.6455014 ]  :  [0. 1.]\n",
      "[0.28873205 0.71126795]  :  [1. 0.]\n",
      "[0.8653632 0.1346369]  :  [1. 0.]\n",
      "[0.25888097 0.741119  ]  :  [0. 1.]\n",
      "[0.67204016 0.32795992]  :  [1. 0.]\n",
      "[0.23535758 0.7646425 ]  :  [0. 1.]\n",
      "[0.4580303 0.5419697]  :  [0. 1.]\n",
      "[0.6256888 0.3743113]  :  [0. 1.]\n",
      "[0.21649164 0.78350836]  :  [0. 1.]\n",
      "[0.6558821 0.3441178]  :  [1. 0.]\n",
      "[0.7589647  0.24103521]  :  [1. 0.]\n",
      "[0.25831157 0.7416885 ]  :  [0. 1.]\n",
      "[0.13964283 0.86035717]  :  [0. 1.]\n",
      "[0.18369967 0.8163003 ]  :  [0. 1.]\n",
      "[0.35656956 0.6434305 ]  :  [0. 1.]\n",
      "[0.40087306 0.59912694]  :  [1. 0.]\n",
      "[0.38388667 0.61611336]  :  [0. 1.]\n",
      "[0.1325486  0.86745137]  :  [1. 0.]\n",
      "[0.503182  0.4968181]  :  [0. 1.]\n",
      "[0.5265482  0.47345176]  :  [0. 1.]\n",
      "[0.3200697 0.6799303]  :  [0. 1.]\n",
      "[0.25538075 0.74461925]  :  [0. 1.]\n",
      "[0.20988528 0.7901147 ]  :  [1. 0.]\n",
      "[0.51971865 0.48028135]  :  [1. 0.]\n",
      "[0.4061906 0.5938094]  :  [1. 0.]\n",
      "[0.20382057 0.7961795 ]  :  [0. 1.]\n",
      "[0.22093575 0.7790642 ]  :  [1. 0.]\n",
      "[0.88641006 0.11358991]  :  [1. 0.]\n",
      "[0.4239683 0.5760317]  :  [0. 1.]\n",
      "[0.19825476 0.80174524]  :  [0. 1.]\n",
      "[0.2891238 0.7108762]  :  [0. 1.]\n",
      "[0.91562164 0.08437833]  :  [1. 0.]\n",
      "[0.3147257  0.68527424]  :  [1. 0.]\n",
      "[0.57394636 0.42605364]  :  [1. 0.]\n",
      "[0.27464908 0.7253509 ]  :  [0. 1.]\n",
      "[0.14215465 0.85784537]  :  [0. 1.]\n",
      "[0.29157668 0.70842326]  :  [0. 1.]\n",
      "[0.4608459 0.5391541]  :  [1. 0.]\n"
     ]
    }
   ],
   "source": [
    "for i in range(len(y_hat_xgb)):\n",
    "    print(y_hat_xgb[i], ' : ', y_test1[i])"
   ]
  },
  {
   "cell_type": "code",
   "execution_count": 16,
   "metadata": {},
   "outputs": [],
   "source": [
    "y_pred = np.argmax(y_hat_xgb, axis = 1)"
   ]
  },
  {
   "cell_type": "code",
   "execution_count": 17,
   "metadata": {},
   "outputs": [
    {
     "data": {
      "text/plain": [
       "array([1, 1, 1, 1, 1, 1, 1, 1, 1, 1, 0, 1, 1, 1, 0, 1, 0, 1, 1, 0, 1, 0,\n",
       "       0, 1, 1, 1, 1, 1, 1, 1, 0, 0, 1, 1, 1, 0, 1, 1, 1, 0, 1, 1, 1, 0,\n",
       "       1, 0, 1, 1, 1, 1])"
      ]
     },
     "execution_count": 17,
     "metadata": {},
     "output_type": "execute_result"
    }
   ],
   "source": [
    "y_pred"
   ]
  },
  {
   "cell_type": "code",
   "execution_count": 18,
   "metadata": {},
   "outputs": [
    {
     "data": {
      "text/plain": [
       "0.74"
      ]
     },
     "execution_count": 18,
     "metadata": {},
     "output_type": "execute_result"
    }
   ],
   "source": [
    "from sklearn.metrics import accuracy_score\n",
    "accuracy_score(y_pred, y_test)"
   ]
  },
  {
   "cell_type": "code",
   "execution_count": null,
   "metadata": {},
   "outputs": [],
   "source": [
    "from sklearn.metrics import confusion_matrix\n",
    "confusion_matrix(y_pred, y_test)"
   ]
  },
  {
   "cell_type": "code",
   "execution_count": null,
   "metadata": {},
   "outputs": [],
   "source": [
    "for i in range(len(y_pred)):\n",
    "    if (y_pred[i] != y_test[i]):\n",
    "        print(i)\n",
    "        \n",
    "    #print(y_pred[i], \" : \", y_test[i])"
   ]
  },
  {
   "cell_type": "code",
   "execution_count": null,
   "metadata": {},
   "outputs": [],
   "source": [
    "test_set_x_orig[10].shape"
   ]
  },
  {
   "cell_type": "code",
   "execution_count": null,
   "metadata": {},
   "outputs": [],
   "source": [
    "plt.imshow(test_set_x_orig[1])\n",
    "plt.show()"
   ]
  },
  {
   "cell_type": "code",
   "execution_count": null,
   "metadata": {},
   "outputs": [],
   "source": []
  }
 ],
 "metadata": {
  "kernelspec": {
   "display_name": "Python 3",
   "language": "python",
   "name": "python3"
  },
  "language_info": {
   "codemirror_mode": {
    "name": "ipython",
    "version": 3
   },
   "file_extension": ".py",
   "mimetype": "text/x-python",
   "name": "python",
   "nbconvert_exporter": "python",
   "pygments_lexer": "ipython3",
   "version": "3.7.2"
  }
 },
 "nbformat": 4,
 "nbformat_minor": 2
}
